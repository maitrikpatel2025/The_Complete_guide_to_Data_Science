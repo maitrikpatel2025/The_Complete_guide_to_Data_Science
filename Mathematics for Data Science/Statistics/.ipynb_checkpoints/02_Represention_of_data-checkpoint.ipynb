{
 "cells": [
  {
   "cell_type": "markdown",
   "id": "ce20fdb6",
   "metadata": {},
   "source": [
    "# Representation Of Data"
   ]
  },
  {
   "cell_type": "markdown",
   "id": "0ec354b4",
   "metadata": {},
   "source": [
    "Usally comparison among the individual data are best Shown by mean of graphs. we will study these graphs:\n",
    "### (1) Bar diagrams (2) histograms of uniforms width and histograms of varying width (3) Frequency polygons"
   ]
  },
  {
   "cell_type": "markdown",
   "id": "2ecb91cb",
   "metadata": {},
   "source": [
    "## Bar diagrams"
   ]
  },
  {
   "cell_type": "markdown",
   "id": "37e7b206",
   "metadata": {},
   "source": [
    "Bar diagrams is a pictorial representation of data in which usally bars of uniform width are draw with equal spacing between them.\n",
    "we represent the variable on X-axis. The frequency on the variable is shown in Y-axis and the heights of bars are proportionate to the frequency of the variable. This graph is used for discrete(distinct) group to data"
   ]
  },
  {
   "cell_type": "markdown",
   "id": "5ff0edfa",
   "metadata": {},
   "source": [
    "### Example"
   ]
  },
  {
   "cell_type": "markdown",
   "id": "dedb9bbe",
   "metadata": {},
   "source": [
    "The number of students studying in the colleges is diffrent faculties of some city in the academic year 2009-2010 are given below"
   ]
  },
  {
   "cell_type": "code",
   "execution_count": 4,
   "id": "fcddabee",
   "metadata": {},
   "outputs": [
    {
     "name": "stdout",
     "output_type": "stream",
     "text": [
      "       Faculty  No_of_students\n",
      "0      Medical             140\n",
      "1  Engineering             210\n",
      "2      Science             700\n",
      "3     Commerce             950\n",
      "4         Arts             810\n",
      "5         Laws             320\n"
     ]
    }
   ],
   "source": [
    "import pandas as pd\n",
    "colleges = {\n",
    "    \"Faculty\":['Medical','Engineering','Science','Commerce','Arts','Laws'],\n",
    "    \"No_of_students\":[140,210,700,950,810,320]\n",
    "}\n",
    "coll = pd.DataFrame(colleges)\n",
    "print(coll)"
   ]
  },
  {
   "cell_type": "code",
   "execution_count": 5,
   "id": "6ac8c18a",
   "metadata": {},
   "outputs": [
    {
     "data": {
      "image/png": "[encoded data removed]",
      "text/plain": [
       "<Figure size 432x288 with 1 Axes>"
      ]
     },
     "metadata": {
      "needs_background": "light"
     },
     "output_type": "display_data"
    }
   ],
   "source": [
    "import matplotlib.pyplot as plt\n",
    "\n",
    "fig = plt.figure()\n",
    "ax = fig.add_axes([0,0,1,1])\n",
    "ax.bar(colleges['Faculty'],colleges['No_of_students'])\n",
    "plt.show()"
   ]
  },
  {
   "cell_type": "markdown",
   "id": "342ae377",
   "metadata": {},
   "source": [
    "### Bar digram showing the number of students in different faculties of the college in a city for the year 2009-2010"
   ]
  },
  {
   "cell_type": "markdown",
   "id": "05fe4977",
   "metadata": {},
   "source": [
    "## Example"
   ]
  },
  {
   "cell_type": "markdown",
   "id": "fac19660",
   "metadata": {},
   "source": [
    "The data regrading the number of visits to mall or the a multipiex by 50 families of the city during Diwali week are as under:"
   ]
  },
  {
   "cell_type": "code",
   "execution_count": 7,
   "id": "46d3dd61",
   "metadata": {},
   "outputs": [
    {
     "name": "stdout",
     "output_type": "stream",
     "text": [
      "   number_visit  number_families\n",
      "0             0               12\n",
      "1             1               11\n",
      "2             2                9\n",
      "3             3                6\n",
      "4             4                8\n",
      "5             5                3\n",
      "6             6                1\n"
     ]
    }
   ],
   "source": [
    "import pandas as pd\n",
    "multiplex_visit = {\n",
    "    \"number_visit\":[0,1,2,3,4,5,6],\n",
    "    \"number_families\":[12,11,9,6,8,3,1]\n",
    "}\n",
    "mulv = pd.DataFrame(multiplex_visit)\n",
    "print(mulv)"
   ]
  },
  {
   "cell_type": "code",
   "execution_count": 17,
   "id": "af53f660",
   "metadata": {
    "scrolled": true
   },
   "outputs": [
    {
     "data": {
      "image/png": "[encoded data removed]",
      "text/plain": [
       "<Figure size 432x288 with 1 Axes>"
      ]
     },
     "metadata": {
      "needs_background": "light"
     },
     "output_type": "display_data"
    }
   ],
   "source": [
    "import matplotlib.pyplot as plt\n",
    "fig = plt.figure()\n",
    "ax = fig.add_axes([0,0,1,1])\n",
    "ax.bar(multiplex_visit['number_visit'],multiplex_visit['number_families'])\n",
    "plt.show()"
   ]
  },
  {
   "cell_type": "markdown",
   "id": "8eca0b61",
   "metadata": {},
   "source": [
    "## Histogram"
   ]
  },
  {
   "cell_type": "code",
   "execution_count": null,
   "id": "64bb866f",
   "metadata": {},
   "outputs": [],
   "source": []
  },
  {
   "cell_type": "code",
   "execution_count": null,
   "id": "cc395f29",
   "metadata": {},
   "outputs": [],
   "source": []
  }
 ],
 "metadata": {
  "kernelspec": {
   "display_name": "Python 3",
   "language": "python",
   "name": "python3"
  },
  "language_info": {
   "codemirror_mode": {
    "name": "ipython",
    "version": 3
   },
   "file_extension": ".py",
   "mimetype": "text/x-python",
   "name": "python",
   "nbconvert_exporter": "python",
   "pygments_lexer": "ipython3",
   "version": "3.8.8"
  }
 },
 "nbformat": 4,
 "nbformat_minor": 5
}
