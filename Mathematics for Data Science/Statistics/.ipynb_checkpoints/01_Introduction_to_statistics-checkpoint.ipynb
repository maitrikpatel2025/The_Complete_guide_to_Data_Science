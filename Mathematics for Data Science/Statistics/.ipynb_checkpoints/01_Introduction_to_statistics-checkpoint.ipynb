{
 "cells": [
  {
   "cell_type": "markdown",
   "metadata": {},
   "source": [
    "#   Introduction To Statistics"
   ]
  },
  {
   "cell_type": "markdown",
   "metadata": {},
   "source": [
    "Statistics is a science dealing with the scientific methods of collecting, arranging, reducing, analysing the data and drawing proper and correct, conclusions with the help of scientific princples."
   ]
  },
  {
   "cell_type": "markdown",
   "metadata": {},
   "source": [
    "# Collection of Data"
   ]
  },
  {
   "cell_type": "markdown",
   "metadata": {},
   "source": [
    "Primary data is data originated for the first time by the researcher through direct efforts and experience, specifically for the purpose of addressing his research problem. Also known as the first hand or raw data."
   ]
  },
  {
   "cell_type": "markdown",
   "metadata": {},
   "source": [
    "Secondary data refers to data that is collected by someone other than the primary user. Common sources of secondary data for social science include censuses, information collected by government departments, organizational records"
   ]
  },
  {
   "cell_type": "markdown",
   "metadata": {},
   "source": [
    "# Classification of Data"
   ]
  },
  {
   "cell_type": "markdown",
   "metadata": {},
   "source": [
    "Given data are expressed numerically, then it is said to be a quantitative data and if they are expressed by the non-numberically in qualitative form then it is said to be qualitative  data\n",
    "exmaple: heights and weights of n students is a quatitative data\n",
    "and n obersvation obtained by tossing a balance coin n times is called a qualitative data\n"
   ]
  },
  {
   "cell_type": "markdown",
   "metadata": {},
   "source": [
    "# Presentation of Date"
   ]
  },
  {
   "cell_type": "markdown",
   "metadata": {},
   "source": [
    "As Soon as the work related to collect the data is over, the investigator has to find out ways to represent them in the from which is meaningful. "
   ]
  },
  {
   "cell_type": "markdown",
   "metadata": {},
   "source": [
    "sometimes the data available from sample survey is so large and extensive that it is difficult to derive conclusion from it, if it is not reduced or classified properly"
   ]
  },
  {
   "cell_type": "markdown",
   "metadata": {},
   "source": [
    "# Range"
   ]
  },
  {
   "cell_type": "markdown",
   "metadata": {},
   "source": [
    "The difference between the largest observation and the smallest observation is called range of the quantitative data."
   ]
  },
  {
   "cell_type": "markdown",
   "metadata": {},
   "source": [
    "as for examples, consider the runs scored by yusuf Pathan in 10 innnings as given"
   ]
  },
  {
   "cell_type": "code",
   "execution_count": 7,
   "metadata": {},
   "outputs": [],
   "source": [
    "Yusuf_Pathan = [37,52,25,18,22,30,54,11,41,47]\n",
    "# 37,52,25,18,22,30,54,11,41,47\n",
    "# the data in the form is called a raw data"
   ]
  },
  {
   "cell_type": "code",
   "execution_count": 8,
   "metadata": {},
   "outputs": [],
   "source": [
    "Yusuf_Pathan.sort()"
   ]
  },
  {
   "cell_type": "code",
   "execution_count": 6,
   "metadata": {},
   "outputs": [
    {
     "name": "stdout",
     "output_type": "stream",
     "text": [
      "[11, 18, 22, 25, 30, 37, 41, 47, 52, 54]\n"
     ]
    }
   ],
   "source": [
    "print(Yusuf_Pathan)"
   ]
  },
  {
   "cell_type": "markdown",
   "metadata": {},
   "source": [
    "lowest score is 11 and highest score is 54\n",
    "so Range of this data is 54 - 11 = 43 "
   ]
  },
  {
   "cell_type": "markdown",
   "metadata": {},
   "source": [
    "Range does not give a clear picture of data for example in above illustration the range is 43. But 43 is also the range in the following examples.\n"
   ]
  },
  {
   "cell_type": "markdown",
   "metadata": {},
   "source": [
    "(i) 1,44"
   ]
  },
  {
   "cell_type": "markdown",
   "metadata": {},
   "source": [
    "(ii) 1001, 1044"
   ]
  },
  {
   "cell_type": "markdown",
   "metadata": {},
   "source": [
    "if  the data is large, instead of arranging them in increasing or decreasing order, we prepare a table as follows"
   ]
  },
  {
   "cell_type": "markdown",
   "metadata": {},
   "source": [
    "The Marks obtained by 30 students out 100 studends of class 10th are as follows"
   ]
  },
  {
   "cell_type": "markdown",
   "metadata": {},
   "source": [
    "15  85  50  30   80 50  35 70 55 90 75 60 99 70 40 70 35 60 50 40\n",
    "60 55 35 35 85 60 40 70 90 40 90"
   ]
  },
  {
   "cell_type": "markdown",
   "metadata": {},
   "source": [
    "# Frequency"
   ]
  },
  {
   "cell_type": "markdown",
   "metadata": {},
   "source": [
    "The number of students who have obtained certain number of marks is called frequency of those marks.  "
   ]
  },
  {
   "cell_type": "markdown",
   "metadata": {},
   "source": [
    "example 2 students got 85 marks so the frequency of obervation \n",
    "85 is 2"
   ]
  },
  {
   "cell_type": "code",
   "execution_count": 4,
   "metadata": {},
   "outputs": [
    {
     "name": "stdout",
     "output_type": "stream",
     "text": [
      "    Marks  No_of_students\n",
      "0      15               1\n",
      "1      30               1\n",
      "2      35               3\n",
      "3      40               4\n",
      "4      50               3\n",
      "5      55               2\n",
      "6      60               4\n",
      "7      70               4\n",
      "8      75               1\n",
      "9      80               1\n",
      "10     85               2\n",
      "11     90               3\n",
      "12     99               1\n"
     ]
    }
   ],
   "source": [
    "import pandas as pd \n",
    "students = {\n",
    "    'Marks': [15,30,35,40,50,55,60,70,75,80,85,90,99],\n",
    "    \"No_of_students\":[1,1,3,4,3,2,4,4,1,1,2,3,1]\n",
    "}\n",
    "students_table = pd.DataFrame(students)\n",
    "print(students_table)"
   ]
  },
  {
   "cell_type": "markdown",
   "metadata": {},
   "source": [
    "Total                   30"
   ]
  },
  {
   "cell_type": "markdown",
   "metadata": {},
   "source": [
    "#### This is called  frequency distribution table or frequency distribution table for ungrouped data"
   ]
  },
  {
   "cell_type": "code",
   "execution_count": 6,
   "metadata": {},
   "outputs": [
    {
     "name": "stdout",
     "output_type": "stream",
     "text": [
      "  Marks (class)  No_of_students\n",
      "0           1-5               7\n",
      "1          6-10              11\n",
      "2         11-15              12\n",
      "3         16-20              10\n",
      "4         21-25              13\n",
      "5         26-30               7\n"
     ]
    }
   ],
   "source": [
    "import pandas as pd \n",
    "students = {\n",
    "    'Marks (class)': [ \"1-5\",\"6-10\",\"11-15\",\"16-20\",\"21-25\",\"26-30\"],\n",
    "    \"No_of_students\":[7,11,12,10,13,7]\n",
    "}\n",
    "students_table = pd.DataFrame(students)\n",
    "print(students_table)"
   ]
  },
  {
   "cell_type": "markdown",
   "metadata": {},
   "source": [
    "we convert it into groups like 1-5,6-10,11-15,...26-30 these groups are called classes or class intervals"
   ]
  },
  {
   "cell_type": "markdown",
   "metadata": {},
   "source": [
    "#### this types is called  frequency distribution table or frequency distribution table for grouped data"
   ]
  }
 ],
 "metadata": {
  "kernelspec": {
   "display_name": "Python 3",
   "language": "python",
   "name": "python3"
  },
  "language_info": {
   "codemirror_mode": {
    "name": "ipython",
    "version": 3
   },
   "file_extension": ".py",
   "mimetype": "text/x-python",
   "name": "python",
   "nbconvert_exporter": "python",
   "pygments_lexer": "ipython3",
   "version": "3.8.8"
  }
 },
 "nbformat": 4,
 "nbformat_minor": 4
}
