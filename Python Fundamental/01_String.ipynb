{
 "cells": [
  {
   "cell_type": "markdown",
   "metadata": {},
   "source": [
    "# <font color='black'> *ABSOLUTE BEGINNER LEVEL* </font> \n",
    "# <font color='black'> STRINGS </font> "
   ]
  },
  {
   "cell_type": "markdown",
   "metadata": {},
   "source": [
    "#  <font color='black'>1. WHAT WENT WRONG? FIX THE ISSUE AND INDICATE WHAT DOES THIS CODE DO?  </font> "
   ]
  },
  {
   "cell_type": "code",
   "execution_count": 4,
   "metadata": {},
   "outputs": [
    {
     "name": "stdout",
     "output_type": "stream",
     "text": [
      "Mitch, 26, True\n"
     ]
    }
   ],
   "source": [
    "Name = \"Mitch\"\n",
    "Age = 26\n",
    "Full_time_Employee = True\n",
    "\n",
    "print(f\"{Name}, {Age}, {Full_time_Employee}\")\n"
   ]
  },
  {
   "cell_type": "markdown",
   "metadata": {},
   "source": [
    "# <font color='black'> 2. WHAT WENT WRONG? FIX THE ERROR TO GET x-y </font> "
   ]
  },
  {
   "cell_type": "code",
   "execution_count": 5,
   "metadata": {},
   "outputs": [
    {
     "name": "stdout",
     "output_type": "stream",
     "text": [
      "16\n"
     ]
    }
   ],
   "source": [
    "x = int(\"20\")\n",
    "y = 4\n",
    "\n",
    "print(x - y)\n"
   ]
  },
  {
   "cell_type": "markdown",
   "metadata": {},
   "source": [
    "# <font color='black'> 3. WRITE A CODE THAT TAKES AN INPUT FROM A USER, SPLITS IT INTO WORDS AND PRINT THEM ON THE SCREEN </font> "
   ]
  },
  {
   "cell_type": "code",
   "execution_count": 15,
   "metadata": {},
   "outputs": [
    {
     "name": "stdout",
     "output_type": "stream",
     "text": [
      "please enter\"How's your day going?\n"
     ]
    }
   ],
   "source": [
    "screen = input(\"please enter\")"
   ]
  },
  {
   "cell_type": "code",
   "execution_count": 17,
   "metadata": {},
   "outputs": [],
   "source": [
    "list = screen.split(\" \")"
   ]
  },
  {
   "cell_type": "code",
   "execution_count": 18,
   "metadata": {},
   "outputs": [
    {
     "name": "stdout",
     "output_type": "stream",
     "text": [
      "['\"How\\'s', 'your', 'day', 'going?']\n"
     ]
    }
   ],
   "source": [
    "print(list)"
   ]
  },
  {
   "cell_type": "markdown",
   "metadata": {},
   "source": [
    "# <font color='black'> 4. WRITE A CODE THAT TAKES AN INPUT FROM A USER, CONVERT IT TO UPPER CASE AND PRINT THEM ON THE SCREEN </font> "
   ]
  },
  {
   "cell_type": "code",
   "execution_count": 21,
   "metadata": {},
   "outputs": [
    {
     "name": "stdout",
     "output_type": "stream",
     "text": [
      "Please enter an input :salkadf\n",
      "SALKADF\n"
     ]
    }
   ],
   "source": [
    "user = input(\"Please enter an input :\")\n",
    "print(user.upper())"
   ]
  },
  {
   "cell_type": "markdown",
   "metadata": {},
   "source": [
    "# <font color='black'> 5. WRITE A CODE THAT PROMPTS A USER REQUESTING HIS/HER E-MAIL AND THEN EXTRACTS THE USERNAME (NOTE THAT THE EMAIL IS IN FIRSTNAME.LASTNAME@GMAIL.COM </font> "
   ]
  },
  {
   "cell_type": "code",
   "execution_count": 2,
   "metadata": {},
   "outputs": [
    {
     "name": "stdout",
     "output_type": "stream",
     "text": [
      "Enter your e-mail address:maitrik.patel2025@gmail.com\n",
      "maitrik.patel2025\n"
     ]
    }
   ],
   "source": [
    "input_str = input(\"Enter your e-mail address:\")\n",
    "out_str = input_str.split('@')\n",
    "print(out_str[0])"
   ]
  },
  {
   "cell_type": "markdown",
   "metadata": {},
   "source": [
    "# <font color='black'> 6. EXPAND ON THE PERVIOUS CODE TO PRINT \"HELLO FIRSTNAME LASTNAME\" </font> \n",
    "\n"
   ]
  },
  {
   "cell_type": "code",
   "execution_count": 4,
   "metadata": {},
   "outputs": [
    {
     "name": "stdout",
     "output_type": "stream",
     "text": [
      "hello maitrik.patel2025\n"
     ]
    }
   ],
   "source": [
    "print(f\"hello {out_str[0]}\")"
   ]
  },
  {
   "cell_type": "code",
   "execution_count": 5,
   "metadata": {},
   "outputs": [
    {
     "name": "stdout",
     "output_type": "stream",
     "text": [
      "Enter your e-mail address:maitrik.patel2025@gmail.com\n",
      "Hello maitrik patel2025 \n"
     ]
    }
   ],
   "source": [
    "input_str = input(\"Enter your e-mail address:\")\n",
    "out_str = input_str.split('@')\n",
    "\n",
    "out_str_2 = out_str[0].split('.')\n",
    "out_str_2\n",
    "print('Hello {} {} '.format(out_str_2[0], out_str_2[1]))"
   ]
  },
  {
   "cell_type": "markdown",
   "metadata": {},
   "source": [
    "# <font color='black'> 7. WRITE A CODE THAT REQUESTS THE FIRST, LAST NAME, AND AGE AND PRINTS\n",
    "    - HELLO \"FIRST NAME\" \"LAST NAME\", YOU ARE NOW \"AGE\", FYI: AGE IS JUST A NUMBER, YOU ARE YOUNGER THAN EVER!  </font> \n",
    "\n"
   ]
  },
  {
   "cell_type": "code",
   "execution_count": 6,
   "metadata": {},
   "outputs": [
    {
     "name": "stdout",
     "output_type": "stream",
     "text": [
      "Enter your first name:makdf\n",
      "Enter your last name:masdfa\n",
      "Enter your age30\n",
      "Hello makdf masdfa, you are 30, FYI: Age is just a number, you are younger than ever!\n"
     ]
    }
   ],
   "source": [
    "first = input(\"Enter your first name:\")\n",
    "last = input(\"Enter your last name:\")\n",
    "age = input(\"Enter your age\")\n",
    "\n",
    "print(\"Hello {}, you are {}, FYI: Age is just a number, you are younger than ever!\".format(first + \" \"+ last, age))"
   ]
  },
  {
   "cell_type": "markdown",
   "metadata": {},
   "source": [
    "# <font color='b'> # 8. REPEAT THE PREVIOUS EXERCISE BUT PRTNT THE NAME AND AGE IN A NEW LINE. (RESEARCH HOW TO PRINT IN A NEW LINE)\n",
    "- \\n is used for printing statements in a new line\n",
    "- please read: https://docs.python.org/2/tutorial/introduction.html\n"
   ]
  },
  {
   "cell_type": "code",
   "execution_count": 8,
   "metadata": {},
   "outputs": [
    {
     "name": "stdout",
     "output_type": "stream",
     "text": [
      "Enter your first name:das\n",
      "Enter your last name:adfa\n",
      "Enter your ageasd\n",
      "Hello das adfa,\n",
      "you are asd,\n",
      "FYI: Age is just a number, you are younger than ever!\n"
     ]
    }
   ],
   "source": [
    "first = input(\"Enter your first name:\")\n",
    "last = input(\"Enter your last name:\")\n",
    "age = input(\"Enter your age\")\n",
    "\n",
    "print(\"Hello {},\\nyou are {},\\nFYI: Age is just a number, you are younger than ever!\".format(first + \" \"+ last, age))"
   ]
  },
  {
   "cell_type": "code",
   "execution_count": 10,
   "metadata": {},
   "outputs": [
    {
     "name": "stdout",
     "output_type": "stream",
     "text": [
      "first name: das \n",
      " last name: adfa\n"
     ]
    }
   ],
   "source": [
    "print(\"first name: {} \\n last name: {}\".format(first,last))"
   ]
  },
  {
   "cell_type": "markdown",
   "metadata": {},
   "source": [
    "# <font color='black'> # 9. WRITE A CODE THAT TAKES THE USER E-MAIL AND COUNTS THE NUMBER OF USERNAME CHARACTERS\n",
    "    - please research len() that can be used to obtain the number of charachters in a string \n"
   ]
  },
  {
   "cell_type": "code",
   "execution_count": 1,
   "metadata": {},
   "outputs": [
    {
     "name": "stdout",
     "output_type": "stream",
     "text": [
      "Enter your e-mail address:maitrik.patel2025@gmail.com\n",
      "27\n"
     ]
    }
   ],
   "source": [
    "input_str = input(\"Enter your e-mail address:\")\n",
    "out_str = len(input_str)\n",
    "print(out_str)"
   ]
  },
  {
   "cell_type": "markdown",
   "metadata": {},
   "source": [
    "# <font color='black'> # 10. WRITE A CODE THAT EXTRACTS THE WORD HELLO FROM \"HELLO WORLD\" IN TWO DIFFERENT WAYS\n",
    "    - please research string slicing: https://www.pythonlearn.com/html-008/cfbook007.html\n",
    "\n"
   ]
  },
  {
   "cell_type": "code",
   "execution_count": 2,
   "metadata": {},
   "outputs": [
    {
     "name": "stdout",
     "output_type": "stream",
     "text": [
      "Hello\n"
     ]
    }
   ],
   "source": [
    "my_string = 'Hello world'\n",
    "out_string = my_string.split()\n",
    "print(out_string[0])"
   ]
  },
  {
   "cell_type": "code",
   "execution_count": 3,
   "metadata": {},
   "outputs": [
    {
     "name": "stdout",
     "output_type": "stream",
     "text": [
      "Hello\n"
     ]
    }
   ],
   "source": [
    "print(my_string[0:5])"
   ]
  },
  {
   "cell_type": "markdown",
   "metadata": {},
   "source": [
    "# NOW YOU KNOW HOW STRINGS WORK, KEEP IT UP!"
   ]
  }
 ],
 "metadata": {
  "kernelspec": {
   "display_name": "Python 3",
   "language": "python",
   "name": "python3"
  },
  "language_info": {
   "codemirror_mode": {
    "name": "ipython",
    "version": 3
   },
   "file_extension": ".py",
   "mimetype": "text/x-python",
   "name": "python",
   "nbconvert_exporter": "python",
   "pygments_lexer": "ipython3",
   "version": "3.8.5"
  }
 },
 "nbformat": 4,
 "nbformat_minor": 2
}
