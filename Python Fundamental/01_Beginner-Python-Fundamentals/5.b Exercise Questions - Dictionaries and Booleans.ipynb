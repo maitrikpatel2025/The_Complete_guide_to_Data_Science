{
 "cells": [
  {
   "cell_type": "markdown",
   "metadata": {},
   "source": [
    "#  *ABSOLUTE BEGINNER LEVEL*\n",
    "# DICTIONARIES AND BOOLEANS "
   ]
  },
  {
   "cell_type": "markdown",
   "metadata": {},
   "source": [
    "# 1. CREATE A DICTIONARY WITH 3 OF YOUR FAVOURITE FRIENDS AND THEIR RESPECTIVE AGE AND PRINT OUT THE AGE OF SECOND NAME YOU CHOOSE"
   ]
  },
  {
   "cell_type": "code",
   "execution_count": 10,
   "metadata": {},
   "outputs": [
    {
     "name": "stdout",
     "output_type": "stream",
     "text": [
      "2007\n"
     ]
    }
   ],
   "source": [
    "friends = {\n",
    "  \"friend1\" : {\n",
    "    \"name\" : \"Emil\",\n",
    "    \"age\" : 2004\n",
    "  },\n",
    "  \"friend2\" : {\n",
    "    \"name\" : \"Tobias\",\n",
    "    \"age\" : 2007\n",
    "  },\n",
    "  \"friend3\" : {\n",
    "    \"name\" : \"Linus\",\n",
    "    \"age\" : 2011\n",
    "  }\n",
    "}\n",
    "print(friends[\"friend2\"][\"age\"])"
   ]
  },
  {
   "cell_type": "markdown",
   "metadata": {},
   "source": [
    "# 2. CREATE A DICTIONARY WITH 3 OF YOUR FAVOURITE FRIENDS AND THEIR RESPECTIVE HOURLY WAGE AND OBTAIN THE AVERAGE OF ALL THEIR SALARIES "
   ]
  },
  {
   "cell_type": "code",
   "execution_count": 12,
   "metadata": {},
   "outputs": [
    {
     "name": "stdout",
     "output_type": "stream",
     "text": [
      "2006\n"
     ]
    }
   ],
   "source": [
    "friends = {\n",
    "  \"friend1\" : {\n",
    "    \"name\" : \"Emil\",\n",
    "    \"salary\" : 2004\n",
    "  },\n",
    "  \"friend2\" : {\n",
    "    \"name\" : \"Tobias\",\n",
    "    \"salary\" : 2007\n",
    "  },\n",
    "  \"friend3\" : {\n",
    "    \"name\" : \"Linus\",\n",
    "    \"salary\" : 2011\n",
    "  }\n",
    "}\n",
    "average_salaray = (friends[\"friend1\"][\"salary\"]+friends[\"friend2\"][\"salary\"]+friends[\"friend2\"][\"salary\"])/3\n",
    "print(int(average_salaray))"
   ]
  },
  {
   "cell_type": "markdown",
   "metadata": {},
   "source": [
    "#  3. UPDATE THE PREVIOUS DICTIONARY WITH TWO OF YOUR NEXT FAVOURITE FRIENDS AND THEIR RESPECTIVE SALARIES AND OBTAIN THE AVERAGE OF ALL THEIR SALARIES  "
   ]
  },
  {
   "cell_type": "code",
   "execution_count": 15,
   "metadata": {},
   "outputs": [],
   "source": [
    "friends[\"friend4\"]={\"name\":\"kush\",\n",
    "                   \"salary\":2040}\n",
    "friends[\"friend5\"]={\"name\":\"Abhi\",\n",
    "                   \"salary\":2040}"
   ]
  },
  {
   "cell_type": "code",
   "execution_count": 51,
   "metadata": {},
   "outputs": [
    {
     "name": "stdout",
     "output_type": "stream",
     "text": [
      "{'friend1': {'name': 'Emil', 'salary': 2004},\n",
      " 'friend2': {'name': 'Tobias', 'salary': 2007},\n",
      " 'friend3': {'name': 'Linus', 'salary': 2011},\n",
      " 'friend4': {'name': 'kush', 'salary': 2040},\n",
      " 'friend5': {'name': 'Abhi', 'salary': 2040}}\n",
      "2020.4\n"
     ]
    }
   ],
   "source": [
    "sum = 0 \n",
    "for i in friends:\n",
    "    sum += friends[i][\"salary\"]\n",
    "average=sum/5\n",
    "from pprint import pprint\n",
    "\n",
    "pprint(friends)\n",
    "pprint(average)\n"
   ]
  },
  {
   "cell_type": "markdown",
   "metadata": {},
   "source": [
    "# 4. WRITE A CODE THAT MULTIPLIES ALL THE ELEMENTS IN THE FOLLOWING DICTIONARY"
   ]
  },
  {
   "cell_type": "code",
   "execution_count": 26,
   "metadata": {},
   "outputs": [
    {
     "name": "stdout",
     "output_type": "stream",
     "text": [
      "-1500000\n"
     ]
    }
   ],
   "source": [
    "my_dict = {'data1':500,\n",
    "           'data2':-10,\n",
    "           'data3':300}\n",
    "print(my_dict[\"data1\"]*my_dict[\"data2\"]*my_dict[\"data3\"])"
   ]
  },
  {
   "cell_type": "markdown",
   "metadata": {},
   "source": [
    "# 5. FOR EACH OF THE STUDENTS LIST BELOW, CALCULATE THE AVERAGE MARK FOR THE MIDTERM AND FINAL EXAMS FOR EACH STUDENT AND PUT THE AVERAGE IN A SEPARATE DICTIONARY ALONG WITH WITH THE STUDENT ID "
   ]
  },
  {
   "cell_type": "code",
   "execution_count": 49,
   "metadata": {},
   "outputs": [
    {
     "name": "stdout",
     "output_type": "stream",
     "text": [
      "[{'average': 72.5, 'student_id': 1},\n",
      " {'average': 79.0, 'student_id': 2},\n",
      " {'average': 87.5, 'student_id': 3}]\n"
     ]
    }
   ],
   "source": [
    "student_details = [\n",
    "  {'student_id' : 1, 'subject' : 'math', 'midterm' : 60, 'final' : 85},\n",
    "  {'student_id' : 2, 'subject' : 'math', 'midterm' : 80, 'final' : 78},\n",
    "  {'student_id' : 3, 'subject' : 'math', 'midterm' : 90, 'final' : 85}\n",
    "]\n",
    "\n",
    "\n",
    "average_1 = (student_details[0][\"midterm\"]+student_details[0][\"final\"])/2\n",
    "average_2 = (student_details[1][\"midterm\"]+student_details[1][\"final\"])/2\n",
    "average_3 = (student_details[2][\"midterm\"]+student_details[2][\"final\"])/2\n",
    "\n",
    "\n",
    "my_average = [{'student_id': 1, 'average' : average_1},\n",
    "              {'student_id': 2, 'average' : average_2},\n",
    "              {'student_id': 3, 'average' : average_3}\n",
    "             ]\n",
    "\n",
    "from pprint import pprint\n",
    "\n",
    "pprint(my_average)"
   ]
  },
  {
   "cell_type": "markdown",
   "metadata": {},
   "source": [
    "# 6. REPEAT THE PREVIOUS EXERCISE BUT ADD THE AVERAGE IN A NEW DICTINARY LINE WITH \"AVERAGE\" AS A KEY"
   ]
  },
  {
   "cell_type": "code",
   "execution_count": 52,
   "metadata": {},
   "outputs": [
    {
     "name": "stdout",
     "output_type": "stream",
     "text": [
      "[{'average': 72.5,\n",
      "  'final': 85,\n",
      "  'midterm': 60,\n",
      "  'student_id': 1,\n",
      "  'subject': 'math'},\n",
      " {'average': 79.0,\n",
      "  'final': 78,\n",
      "  'midterm': 80,\n",
      "  'student_id': 2,\n",
      "  'subject': 'math'},\n",
      " {'average': 79.0,\n",
      "  'final': 85,\n",
      "  'midterm': 90,\n",
      "  'student_id': 3,\n",
      "  'subject': 'math'}]\n"
     ]
    }
   ],
   "source": [
    "student_details[0][\"average\"]= average_1\n",
    "student_details[1][\"average\"]= average_2\n",
    "student_details[2][\"average\"]= average_2\n",
    "from pprint import pprint\n",
    "\n",
    "pprint(student_details)"
   ]
  },
  {
   "cell_type": "markdown",
   "metadata": {},
   "source": [
    "# 7. SQUARE EACH ELEMENT IN THE FOLLOWING DICTIONARY"
   ]
  },
  {
   "cell_type": "code",
   "execution_count": 59,
   "metadata": {},
   "outputs": [],
   "source": [
    "dictionary = {'C1' : [10,20,30],\n",
    "              'C2' : [20,30,40]}\n",
    "dictionary['C1'] = [ dictionary['C1'][0]**2 , dictionary['C1'][1]**2, dictionary['C1'][2]**2]\n",
    "dictionary['C2'] = [ dictionary['C2'][0]**2 , dictionary['C2'][1]**2, dictionary['C2'][2]**2]\n"
   ]
  },
  {
   "cell_type": "code",
   "execution_count": 60,
   "metadata": {},
   "outputs": [
    {
     "name": "stdout",
     "output_type": "stream",
     "text": [
      "{'C1': [100, 400, 900], 'C2': [400, 900, 1600]}\n"
     ]
    }
   ],
   "source": [
    "\n",
    "from pprint import pprint\n",
    "\n",
    "pprint(dictionary)"
   ]
  },
  {
   "cell_type": "markdown",
   "metadata": {},
   "source": [
    "#  8. CREATE A LIST OF ALL KEYS AND A LIST OF ALL VALUES AND THE TOTAL SUM OF ALL VALUES "
   ]
  },
  {
   "cell_type": "code",
   "execution_count": 62,
   "metadata": {},
   "outputs": [],
   "source": [
    "my_salary = {\"alex\": 25, \"sally\": 28, \"dina\": 30}\n"
   ]
  },
  {
   "cell_type": "code",
   "execution_count": 64,
   "metadata": {},
   "outputs": [],
   "source": [
    "name=list(my_salary.keys())\n",
    "salary=list(my_salary.values())"
   ]
  },
  {
   "cell_type": "code",
   "execution_count": 65,
   "metadata": {},
   "outputs": [],
   "source": [
    "totalsalaary = salary[0] +salary[1] +salary[2]"
   ]
  },
  {
   "cell_type": "code",
   "execution_count": 66,
   "metadata": {},
   "outputs": [
    {
     "name": "stdout",
     "output_type": "stream",
     "text": [
      "83\n"
     ]
    }
   ],
   "source": [
    "print(totalsalaary)"
   ]
  },
  {
   "cell_type": "code",
   "execution_count": 67,
   "metadata": {},
   "outputs": [
    {
     "data": {
      "text/plain": [
       "['alex', 'sally', 'dina']"
      ]
     },
     "execution_count": 67,
     "metadata": {},
     "output_type": "execute_result"
    }
   ],
   "source": [
    "name"
   ]
  },
  {
   "cell_type": "code",
   "execution_count": 68,
   "metadata": {},
   "outputs": [
    {
     "data": {
      "text/plain": [
       "[25, 28, 30]"
      ]
     },
     "execution_count": 68,
     "metadata": {},
     "output_type": "execute_result"
    }
   ],
   "source": [
    "salary"
   ]
  },
  {
   "cell_type": "markdown",
   "metadata": {},
   "source": [
    "# 9. OBTAIN THE LENGTH OF THE FOLLOWING DICTIONARY AND SORT ITS ELEMENTS"
   ]
  },
  {
   "cell_type": "code",
   "execution_count": 70,
   "metadata": {},
   "outputs": [
    {
     "name": "stdout",
     "output_type": "stream",
     "text": [
      "5\n",
      "[('Joe', 10), ('Peter', 44), ('dina', 22), ('holy', 50), ('sally', 23)]\n"
     ]
    }
   ],
   "source": [
    "my_dict = {\"sally\": 23, \"dina\": 22, \"holy\": 50, \"Joe\": 10, \"Peter\": 44}\n",
    "print(len(my_dict))\n",
    "\n",
    "dictionary_items = my_dict.items()\n",
    "sorted_items = sorted(dictionary_items)\n",
    "\n",
    "print(sorted_items)"
   ]
  },
  {
   "cell_type": "markdown",
   "metadata": {},
   "source": [
    "# 10. FILTER OUT VALUES THAT ARE GREATER THAN OR EQUAL TO 30 (ADVANCED)(TO BE COVERED) "
   ]
  },
  {
   "cell_type": "code",
   "execution_count": 72,
   "metadata": {},
   "outputs": [
    {
     "name": "stdout",
     "output_type": "stream",
     "text": [
      "{'Key 1': 20, 'Key 2': 30}\n"
     ]
    }
   ],
   "source": [
    "my_dictionary = {\"Key 1\": 20, \"Key 2\": 30, \"Key 3\": 50}\n",
    "result = dict((key, value) for key, value in my_dictionary.items() if value <= 30)\n",
    "print(result)\n"
   ]
  },
  {
   "cell_type": "markdown",
   "metadata": {},
   "source": [
    "# 11. WHAT WILL THIS CODE GENERATE?"
   ]
  },
  {
   "cell_type": "code",
   "execution_count": 73,
   "metadata": {},
   "outputs": [
    {
     "name": "stdout",
     "output_type": "stream",
     "text": [
      "False\n",
      "True\n",
      "False\n",
      "True\n"
     ]
    }
   ],
   "source": [
    "x = 10\n",
    "y = 20\n",
    "print(x>y)\n",
    "print(x<y)\n",
    "print(x==y)\n",
    "print(x!=y)\n"
   ]
  },
  {
   "cell_type": "markdown",
   "metadata": {},
   "source": [
    "# NOW YOU SHOULD BE FAMILIAR WITH DICTIONARIES, GREAT JOB!"
   ]
  }
 ],
 "metadata": {
  "kernelspec": {
   "display_name": "Python 3",
   "language": "python",
   "name": "python3"
  },
  "language_info": {
   "codemirror_mode": {
    "name": "ipython",
    "version": 3
   },
   "file_extension": ".py",
   "mimetype": "text/x-python",
   "name": "python",
   "nbconvert_exporter": "python",
   "pygments_lexer": "ipython3",
   "version": "3.8.5"
  }
 },
 "nbformat": 4,
 "nbformat_minor": 2
}
