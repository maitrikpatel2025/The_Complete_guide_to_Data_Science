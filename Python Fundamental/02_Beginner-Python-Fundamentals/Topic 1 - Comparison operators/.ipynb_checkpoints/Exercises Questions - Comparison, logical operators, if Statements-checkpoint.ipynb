{
 "cells": [
  {
   "cell_type": "markdown",
   "metadata": {},
   "source": [
    "#  *ABSOLUTE BEGINNER LEVEL* \n",
    "# COMPARISON AND LOGICAL OPERATORS AND IF STATEMENTS   "
   ]
  },
  {
   "cell_type": "markdown",
   "metadata": {},
   "source": [
    "#  1. WHAT WILL THIS CODE GENERATE? PLEASE DO NOT RUN THE CODE! "
   ]
  },
  {
   "cell_type": "code",
   "execution_count": 1,
   "metadata": {},
   "outputs": [
    {
     "name": "stdout",
     "output_type": "stream",
     "text": [
      "False\n",
      "True\n",
      "False\n",
      "True\n"
     ]
    }
   ],
   "source": [
    "print('Python' == 'PYTHON')\n",
    "print('PYTHON' == 'PYTHON')\n",
    "print('PYTHON' != 'PYTHON')\n",
    "print(15!=10)"
   ]
  },
  {
   "cell_type": "markdown",
   "metadata": {},
   "source": [
    "#  2. WHAT WILL THIS CODE GENERATE? PLEASE DO NOT RUN THE CODE!  \n"
   ]
  },
  {
   "cell_type": "code",
   "execution_count": 2,
   "metadata": {},
   "outputs": [
    {
     "name": "stdout",
     "output_type": "stream",
     "text": [
      "True\n"
     ]
    }
   ],
   "source": [
    "print( 'Hello'!='HELLO' and (6 > 2) and (5 == 5)) "
   ]
  },
  {
   "cell_type": "code",
   "execution_count": 3,
   "metadata": {},
   "outputs": [
    {
     "name": "stdout",
     "output_type": "stream",
     "text": [
      "True\n"
     ]
    }
   ],
   "source": [
    "print( 'Hello'!='HELLO' or (6 > 2) or (5 == 5)) "
   ]
  },
  {
   "cell_type": "markdown",
   "metadata": {},
   "source": [
    "#   3. WHAT WILL THIS CODE GENERATE? "
   ]
  },
  {
   "cell_type": "code",
   "execution_count": 4,
   "metadata": {},
   "outputs": [
    {
     "name": "stdout",
     "output_type": "stream",
     "text": [
      "False\n",
      "True\n",
      "False\n",
      "True\n",
      "True\n",
      "False\n"
     ]
    }
   ],
   "source": [
    "x = 20\n",
    "y = 30\n",
    "\n",
    "print(x == y) \n",
    "print(x != y) \n",
    "print(x > y)\n",
    "print(x < y) \n",
    "print(x == y or x!=y) \n",
    "print(x == y and x!=y) \n"
   ]
  },
  {
   "cell_type": "markdown",
   "metadata": {},
   "source": [
    "#  4. GIVEN THE DICTIONARY BELOW, WRITE TO CODE TO SELECT DICTIONARY ELEMENTS THAT ARE GREATER THAN OR EQUAL 30 AND PLACE THE VALUES IN A LIST "
   ]
  },
  {
   "cell_type": "markdown",
   "metadata": {},
   "source": [
    "Please note that we did not cover loops yet so the answer below is pretty basic!"
   ]
  },
  {
   "cell_type": "code",
   "execution_count": 13,
   "metadata": {},
   "outputs": [
    {
     "name": "stdout",
     "output_type": "stream",
     "text": [
      "[dict_items([('Key 1', 20), ('Key 2', 30), ('Key 3', 50)])]\n"
     ]
    }
   ],
   "source": [
    "input_dictionary = {\"Key 1\": 20, \"Key 2\": 30, \"Key 3\": 50}\n",
    "list=[input_dictionary.items()]\n",
    "print(list)"
   ]
  },
  {
   "cell_type": "markdown",
   "metadata": {},
   "source": [
    "#  5. WRITE A CODE THAT TAKES A NUMBER FROM A USER AND COMPARE IT TO A RANDOMLY GENERATRED NUMBER AND STATES WHICH ONE IS LARGER/SMALLER "
   ]
  },
  {
   "cell_type": "code",
   "execution_count": null,
   "metadata": {},
   "outputs": [],
   "source": []
  },
  {
   "cell_type": "code",
   "execution_count": null,
   "metadata": {},
   "outputs": [],
   "source": []
  },
  {
   "cell_type": "code",
   "execution_count": null,
   "metadata": {},
   "outputs": [],
   "source": []
  },
  {
   "cell_type": "markdown",
   "metadata": {},
   "source": [
    "#  6. WRITE A CODE THAT TAKES A NUMBER AND INDICATES IF IT IS POSITIVE, NEGATIVE OR ZERO "
   ]
  },
  {
   "cell_type": "code",
   "execution_count": null,
   "metadata": {},
   "outputs": [],
   "source": []
  },
  {
   "cell_type": "code",
   "execution_count": null,
   "metadata": {},
   "outputs": [],
   "source": []
  },
  {
   "cell_type": "code",
   "execution_count": null,
   "metadata": {},
   "outputs": [],
   "source": []
  },
  {
   "cell_type": "markdown",
   "metadata": {},
   "source": [
    "# 7. WRITE A SCRIPT THAT WILL PROMPT A USER FOR AN INPUT AND CHECKS IF THE NUMBER IS DIVISIBLE BY 5 BUT  NOT A MULTIPLE OF 7 "
   ]
  },
  {
   "cell_type": "code",
   "execution_count": null,
   "metadata": {},
   "outputs": [],
   "source": []
  },
  {
   "cell_type": "code",
   "execution_count": null,
   "metadata": {},
   "outputs": [],
   "source": []
  },
  {
   "cell_type": "code",
   "execution_count": null,
   "metadata": {},
   "outputs": [],
   "source": []
  },
  {
   "cell_type": "markdown",
   "metadata": {},
   "source": [
    "#  8. WRITE A CODE THAT TAKES AN INPUT FROM THE USER AND INDICATES ITS NUMBER OF DIGITS"
   ]
  },
  {
   "cell_type": "code",
   "execution_count": null,
   "metadata": {},
   "outputs": [],
   "source": []
  },
  {
   "cell_type": "code",
   "execution_count": null,
   "metadata": {},
   "outputs": [],
   "source": []
  },
  {
   "cell_type": "code",
   "execution_count": null,
   "metadata": {},
   "outputs": [],
   "source": []
  },
  {
   "cell_type": "markdown",
   "metadata": {},
   "source": [
    "#  9. WRITE A CODE THAT TAKES AN INPUT FROM THE USER AND INDICATES IF IT IS EVEN OR ODD"
   ]
  },
  {
   "cell_type": "code",
   "execution_count": null,
   "metadata": {},
   "outputs": [],
   "source": []
  },
  {
   "cell_type": "code",
   "execution_count": null,
   "metadata": {},
   "outputs": [],
   "source": []
  },
  {
   "cell_type": "markdown",
   "metadata": {},
   "source": [
    "#  10. WRITE A CODE THAT TAKES THE VALUES OF THE DICTIONARY BELOW AND OUTPUT VALUES MORE THAN 25 IN AN OUTPUT LIST"
   ]
  },
  {
   "cell_type": "code",
   "execution_count": 49,
   "metadata": {},
   "outputs": [],
   "source": [
    "my_dict = {\"sally\": 23, \"dina\": 30, \"holy\": 50}\n"
   ]
  },
  {
   "cell_type": "markdown",
   "metadata": {},
   "source": [
    "# NOW YOU SHOULD BE FAMILIAR WITH LOGICAL OPERATORS, COMPARISON OPERATORS, AND IF STATMENTS, GREAT JOB!"
   ]
  }
 ],
 "metadata": {
  "kernelspec": {
   "display_name": "Python 3",
   "language": "python",
   "name": "python3"
  },
  "language_info": {
   "codemirror_mode": {
    "name": "ipython",
    "version": 3
   },
   "file_extension": ".py",
   "mimetype": "text/x-python",
   "name": "python",
   "nbconvert_exporter": "python",
   "pygments_lexer": "ipython3",
   "version": "3.8.5"
  }
 },
 "nbformat": 4,
 "nbformat_minor": 2
}
