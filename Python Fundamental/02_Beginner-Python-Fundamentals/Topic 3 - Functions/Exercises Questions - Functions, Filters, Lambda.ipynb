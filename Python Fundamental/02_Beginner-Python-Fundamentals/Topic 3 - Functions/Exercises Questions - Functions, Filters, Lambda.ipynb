{
 "cells": [
  {
   "cell_type": "markdown",
   "metadata": {},
   "source": [
    "#  *INTERMEDIATE LEVEL*  \n",
    "##  FUNCTIONS, FILTERS AND LAMBDA EXPRESSIONS   "
   ]
  },
  {
   "cell_type": "markdown",
   "metadata": {},
   "source": [
    "#  1. WRITE A FUNCTION THAT TAKES A VARIABLE AND SQUARE IT, THEN TEST THE FUNCTION BY TAKING AN INPUT FROM A USER"
   ]
  },
  {
   "cell_type": "code",
   "execution_count": 1,
   "metadata": {},
   "outputs": [],
   "source": [
    "def squared(x):\n",
    "    return (x*x)"
   ]
  },
  {
   "cell_type": "code",
   "execution_count": 2,
   "metadata": {},
   "outputs": [
    {
     "name": "stdout",
     "output_type": "stream",
     "text": [
      "Enter a number6\n",
      "The square of 6 is 36\n"
     ]
    }
   ],
   "source": [
    "a = int(input('Enter a number'))\n",
    "print('The square of {} is {}'.format(a, squared(a)))"
   ]
  },
  {
   "cell_type": "markdown",
   "metadata": {},
   "source": [
    "#  2. WRITE A FUNCTION THAT TAKES 2 VARIABLE AND OBTAIN THE SUMMATION AND MULTIPLICATION, THEN TEST THE FUNCTION BY TAKING AN INPUT FROM A USER (REPEAT USING LAMBDA EXPRESSIONS)"
   ]
  },
  {
   "cell_type": "code",
   "execution_count": 3,
   "metadata": {},
   "outputs": [],
   "source": [
    "def sum_multiply(x, y):\n",
    "    summation = x+y\n",
    "    multiply = x*y\n",
    "    return (summation, multiply)"
   ]
  },
  {
   "cell_type": "code",
   "execution_count": 4,
   "metadata": {},
   "outputs": [
    {
     "name": "stdout",
     "output_type": "stream",
     "text": [
      "Enter any integer:8\n",
      "Enter another integer:8\n"
     ]
    }
   ],
   "source": [
    "a = int(input('Enter any integer:'))\n",
    "b = int(input('Enter another integer:'))\n"
   ]
  },
  {
   "cell_type": "markdown",
   "metadata": {},
   "source": [
    "# LAMBDA"
   ]
  },
  {
   "cell_type": "code",
   "execution_count": 5,
   "metadata": {},
   "outputs": [
    {
     "name": "stdout",
     "output_type": "stream",
     "text": [
      "Enter any integer:8\n",
      "Enter another integer:8\n"
     ]
    }
   ],
   "source": [
    "a = int(input('Enter any integer:'))\n",
    "b = int(input('Enter another integer:'))\n"
   ]
  },
  {
   "cell_type": "code",
   "execution_count": 6,
   "metadata": {},
   "outputs": [],
   "source": [
    "summation = lambda x, y: x+y\n",
    "multiply = lambda x, y: x*y"
   ]
  },
  {
   "cell_type": "code",
   "execution_count": 7,
   "metadata": {},
   "outputs": [
    {
     "name": "stdout",
     "output_type": "stream",
     "text": [
      "Multiplication = 64, addition = 16\n"
     ]
    }
   ],
   "source": [
    "print('Multiplication = {}, addition = {}'.format(multiply(a, b), summation(a, b)))"
   ]
  },
  {
   "cell_type": "markdown",
   "metadata": {},
   "source": [
    "#  3. WRITE A FUNCTION THAT TAKES A VARIABLE AND RETURNS ITS FACTORIAL  "
   ]
  },
  {
   "cell_type": "code",
   "execution_count": 8,
   "metadata": {},
   "outputs": [],
   "source": [
    "def factorial(x):\n",
    "    if x ==0:\n",
    "        return 1\n",
    "    return x * factorial(x-1)"
   ]
  },
  {
   "cell_type": "code",
   "execution_count": 9,
   "metadata": {},
   "outputs": [
    {
     "name": "stdout",
     "output_type": "stream",
     "text": [
      "enter a number9\n",
      "factorial of 9 is 362880\n"
     ]
    }
   ],
   "source": [
    "a = int(input('enter a number'))\n",
    "print('factorial of {} is {}'.format(a, factorial(a)))"
   ]
  },
  {
   "cell_type": "code",
   "execution_count": null,
   "metadata": {},
   "outputs": [],
   "source": []
  },
  {
   "cell_type": "markdown",
   "metadata": {},
   "source": [
    "#  4. DEVELOP A SCRIPT WHOSE ITEMS ARE SQUARES OF THE ORIGINAL LIST  "
   ]
  },
  {
   "cell_type": "code",
   "execution_count": 10,
   "metadata": {},
   "outputs": [
    {
     "name": "stdout",
     "output_type": "stream",
     "text": [
      "[100, 121, 144, 169, 196, 225, 256, 289, 324, 361]\n"
     ]
    }
   ],
   "source": [
    "my_list = range(10, 20)\n",
    "\n",
    "print( [x**2 for x in my_list]  )"
   ]
  },
  {
   "cell_type": "markdown",
   "metadata": {},
   "source": [
    "#  5. WRITE A FUNCTION THAT SQUARES A VARIABLE AND THEN TEST THE FUNCTION USING A LIST OF INTEGER NUMBERS RANGING FROM -20 to 20"
   ]
  },
  {
   "cell_type": "code",
   "execution_count": 11,
   "metadata": {},
   "outputs": [
    {
     "name": "stdout",
     "output_type": "stream",
     "text": [
      "The square of the list\n",
      " [-20, -19, -18, -17, -16, -15, -14, -13, -12, -11, -10, -9, -8, -7, -6, -5, -4, -3, -2, -1, 0, 1, 2, 3, 4, 5, 6, 7, 8, 9, 10, 11, 12, 13, 14, 15, 16, 17, 18, 19]\n",
      " is [400, 361, 324, 289, 256, 225, 196, 169, 144, 121, 100, 81, 64, 49, 36, 25, 16, 9, 4, 1, 0, 1, 4, 9, 16, 25, 36, 49, 64, 81, 100, 121, 144, 169, 196, 225, 256, 289, 324, 361]\n"
     ]
    }
   ],
   "source": [
    "def squared(x):\n",
    "    return (x*x)\n",
    "\n",
    "numbers = range(-20, 20)\n",
    "\n",
    "numbers_squared = list(map(lambda x: squared(x), numbers))\n",
    "print('The square of the list\\n {}\\n is {}'.format(list(numbers), numbers_squared))\n"
   ]
  },
  {
   "cell_type": "code",
   "execution_count": 12,
   "metadata": {},
   "outputs": [
    {
     "data": {
      "text/plain": [
       "range"
      ]
     },
     "execution_count": 12,
     "metadata": {},
     "output_type": "execute_result"
    }
   ],
   "source": [
    "type(numbers)"
   ]
  },
  {
   "cell_type": "code",
   "execution_count": 13,
   "metadata": {},
   "outputs": [],
   "source": [
    "num = list(numbers)"
   ]
  },
  {
   "cell_type": "code",
   "execution_count": 14,
   "metadata": {},
   "outputs": [
    {
     "data": {
      "text/plain": [
       "list"
      ]
     },
     "execution_count": 14,
     "metadata": {},
     "output_type": "execute_result"
    }
   ],
   "source": [
    "type(num)"
   ]
  },
  {
   "cell_type": "markdown",
   "metadata": {},
   "source": [
    "#  6. WRITE 3 FUNCTIONS THAT TAKE THE RADIUS OF A CIRCLE AND RETURN THE DIAMETER, AREA AND CIRCUMFERENCE, TEST THE FUNCTION USING AN INPUT FROM A USER "
   ]
  },
  {
   "cell_type": "code",
   "execution_count": 15,
   "metadata": {},
   "outputs": [],
   "source": [
    "import math\n",
    "\n",
    "def circle_diameter(radius):\n",
    "    return 2 * radius\n",
    "\n",
    "def circle_area(radius):\n",
    "    return math.pi * radius ** 2\n",
    "\n",
    "def circle_circ(radius):\n",
    "    return 2 * math.pi * radius\n",
    "\n"
   ]
  },
  {
   "cell_type": "code",
   "execution_count": 16,
   "metadata": {},
   "outputs": [
    {
     "name": "stdout",
     "output_type": "stream",
     "text": [
      "Enter a radius:8\n",
      "circle diameter =  16\n",
      "circle area =  201.06192982974676\n",
      "circle circumf. =  50.26548245743669\n"
     ]
    }
   ],
   "source": [
    "r = int(input('Enter a radius:'))\n",
    "\n",
    "print('circle diameter = ', circle_diameter(r))\n",
    "print('circle area = ', circle_area(r))\n",
    "print('circle circumf. = ', circle_circ(r))\n",
    "\n"
   ]
  },
  {
   "cell_type": "markdown",
   "metadata": {},
   "source": [
    "#  7. WRITE A CODE THAT TAKES A RANGE FROM A USER (UPPER AND LOWER BOUND) AND RETURNS A LIST OF POSITIVE AND EVEN NUMBERS ONLY"
   ]
  },
  {
   "cell_type": "code",
   "execution_count": 17,
   "metadata": {},
   "outputs": [
    {
     "name": "stdout",
     "output_type": "stream",
     "text": [
      "Enter a lower bound8\n",
      "Enter a Upper bound8\n",
      "[]\n"
     ]
    }
   ],
   "source": [
    "bound_min = int(input('Enter a lower bound'))\n",
    "bound_max = int(input('Enter a Upper bound'))\n",
    "\n",
    "numbers = range(bound_min, bound_max)\n",
    "\n",
    "filtered_numbers = list(filter(lambda x: (x>0 and x%2==0), numbers))\n",
    "print(filtered_numbers)"
   ]
  },
  {
   "cell_type": "markdown",
   "metadata": {},
   "source": [
    "#  8. USING FILTER AND LAMBDA EXPRESSION, WRITE A CODE THAT TAKES A LIST OF NUMBERS BELOW AND RETURNS EVEN NUMBERS ONLY"
   ]
  },
  {
   "cell_type": "code",
   "execution_count": 18,
   "metadata": {},
   "outputs": [
    {
     "name": "stdout",
     "output_type": "stream",
     "text": [
      "numbers that are divisible by 2 = [6, 22, 120, 220, 200]\n"
     ]
    }
   ],
   "source": [
    "numbers = [6, 17, 55, 22, 120, 59, 220, 200, 1]\n",
    "\n",
    "even = list(filter(lambda x: (x%2==0), numbers ))\n",
    "\n",
    "print('numbers that are divisible by 2 =', even)"
   ]
  },
  {
   "cell_type": "markdown",
   "metadata": {},
   "source": [
    "#  9. WRITE A FUNCTION THAT TAKES TWO NUMPY MATRICES AND RETURN THE ADDITION, SUBTRACTION, TRANSPOSE, PRODUCT, DOT PRODUCT"
   ]
  },
  {
   "cell_type": "code",
   "execution_count": 19,
   "metadata": {},
   "outputs": [],
   "source": [
    "def matrix_operations(a, b):\n",
    "    \n",
    "    print('Matrices addition =\\n', np.add(a,b))\n",
    "    print('Matrices Subtract =\\n', np.subtract(a,b))\n",
    "    print('Matrices Multiply =\\n', np.multiply(a,b))\n",
    "    print('Matrix Transpose =\\n',  a.T)\n",
    "    print('Matrices Multiply =\\n', b.T)\n",
    "    print('Matrices dot Multiply =\\n', np.dot(a,b))\n",
    "    print('Sqrt of Matrix =\\n', np.sqrt(a))\n"
   ]
  },
  {
   "cell_type": "code",
   "execution_count": 20,
   "metadata": {},
   "outputs": [
    {
     "name": "stdout",
     "output_type": "stream",
     "text": [
      "Matrices addition =\n",
      " [[ 5 12]\n",
      " [ 9 12]]\n",
      "Matrices Subtract =\n",
      " [[ 1  6]\n",
      " [ 7 -2]]\n",
      "Matrices Multiply =\n",
      " [[ 6 27]\n",
      " [ 8 35]]\n",
      "Matrix Transpose =\n",
      " [[3 8]\n",
      " [9 5]]\n",
      "Matrices Multiply =\n",
      " [[2 1]\n",
      " [3 7]]\n",
      "Matrices dot Multiply =\n",
      " [[15 72]\n",
      " [21 59]]\n",
      "Sqrt of Matrix =\n",
      " [[1.73205081 3.        ]\n",
      " [2.82842712 2.23606798]]\n"
     ]
    }
   ],
   "source": [
    "import numpy as np\n",
    "x = np.array([[3, 9], \n",
    "                 [8, 5]]) \n",
    "y = np.array([[2, 3], \n",
    "                 [1, 7]]) \n",
    "matrix_operations(x, y)"
   ]
  },
  {
   "cell_type": "markdown",
   "metadata": {},
   "source": [
    "#  10. WRITE A FUNCTION THAT TAKES TWO VALUES FROM A USER AND SUM THEM UP. IF NO VALUES ARE PROVIDED, ASSUME DEFAULT VALUES OF 3 AND 5"
   ]
  },
  {
   "cell_type": "code",
   "execution_count": 21,
   "metadata": {},
   "outputs": [
    {
     "data": {
      "text/plain": [
       "12"
      ]
     },
     "execution_count": 21,
     "metadata": {},
     "output_type": "execute_result"
    }
   ],
   "source": [
    "def summation(x=3, y=5):\n",
    "    return x+y\n",
    "\n",
    "summation(5, 7)"
   ]
  },
  {
   "cell_type": "code",
   "execution_count": 22,
   "metadata": {},
   "outputs": [
    {
     "data": {
      "text/plain": [
       "8"
      ]
     },
     "execution_count": 22,
     "metadata": {},
     "output_type": "execute_result"
    }
   ],
   "source": [
    "summation()"
   ]
  },
  {
   "cell_type": "markdown",
   "metadata": {},
   "source": [
    "#  11. WRITE A SCRIPT THAT WILL PROMPT A USER FOR A RANGE (MIN/MAX VALUE) AND RETURNS NUMBERS THAT ARE DIVISIBLE BY 4 BUT ARE NOT MULTIPLES OF 3 "
   ]
  },
  {
   "cell_type": "code",
   "execution_count": 23,
   "metadata": {},
   "outputs": [
    {
     "ename": "SyntaxError",
     "evalue": "invalid syntax (<ipython-input-23-f2acb3b2bde5>, line 1)",
     "output_type": "error",
     "traceback": [
      "\u001b[1;36m  File \u001b[1;32m\"<ipython-input-23-f2acb3b2bde5>\"\u001b[1;36m, line \u001b[1;32m1\u001b[0m\n\u001b[1;33m    def filter_numbers()\u001b[0m\n\u001b[1;37m                        ^\u001b[0m\n\u001b[1;31mSyntaxError\u001b[0m\u001b[1;31m:\u001b[0m invalid syntax\n"
     ]
    }
   ],
   "source": [
    "def filter_numbers()\n",
    "    min_x = int(input('Enter a min number'))\n",
    "    max_x = int(input('Enter a max number'))\n",
    "\n",
    "    my_numbers = []\n",
    "\n",
    "    for i in range(min_x, max_x):\n",
    "        if (i%4==0) and (i%3!=0):\n",
    "            my_numbers.append(str(i))\n",
    "        \n",
    "    print(my_numbers)"
   ]
  },
  {
   "cell_type": "markdown",
   "metadata": {},
   "source": [
    "#  12. DEFINE AN ENGLISH TO FRENCH TRANSLATOR FUNCTION THAT TAKES AN INPUT FROM A USER AND RETURNS THE TRANSLATION, USE ANY 5 KNOWN WORDS"
   ]
  },
  {
   "cell_type": "code",
   "execution_count": null,
   "metadata": {},
   "outputs": [],
   "source": [
    "eng_french = {'happy': 'heureux', \n",
    "             'success': 'Succès', \n",
    "             'studying': 'en train d\\'étudier',\n",
    "             'traveling': 'en voyageant',\n",
    "             'love': 'amour'}\n"
   ]
  },
  {
   "cell_type": "code",
   "execution_count": null,
   "metadata": {},
   "outputs": [],
   "source": [
    "def dict_English2French(word):\n",
    "    try:\n",
    "        return eng_french[word]\n",
    "    except KeyError:\n",
    "        return 'Dictionary does not contain this word'\n"
   ]
  },
  {
   "cell_type": "code",
   "execution_count": null,
   "metadata": {},
   "outputs": [],
   "source": [
    "word = input('Enter a word in english').lower()\n",
    "print(dict_English2French(word))"
   ]
  },
  {
   "cell_type": "markdown",
   "metadata": {},
   "source": [
    "# NOW YOU SHOULD BE FAMILIAR WITH FUNCTIONS, GREAT JOB!"
   ]
  }
 ],
 "metadata": {
  "kernelspec": {
   "display_name": "Python 3",
   "language": "python",
   "name": "python3"
  },
  "language_info": {
   "codemirror_mode": {
    "name": "ipython",
    "version": 3
   },
   "file_extension": ".py",
   "mimetype": "text/x-python",
   "name": "python",
   "nbconvert_exporter": "python",
   "pygments_lexer": "ipython3",
   "version": "3.8.8"
  }
 },
 "nbformat": 4,
 "nbformat_minor": 2
}
